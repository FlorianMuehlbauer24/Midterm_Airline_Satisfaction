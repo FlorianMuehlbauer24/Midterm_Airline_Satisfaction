{
 "cells": [
  {
   "cell_type": "code",
   "execution_count": 2,
   "id": "220e3d02",
   "metadata": {},
   "outputs": [
    {
     "name": "stdout",
     "output_type": "stream",
     "text": [
      "Requirement already satisfied: bottleneck in /Users/bart/anaconda3/lib/python3.11/site-packages (1.3.5)\n",
      "Collecting bottleneck\n",
      "  Downloading Bottleneck-1.3.7-cp311-cp311-macosx_10_9_x86_64.whl (114 kB)\n",
      "\u001b[2K     \u001b[90m━━━━━━━━━━━━━━━━━━━━━━━━━━━━━━━━━━━━━━━\u001b[0m \u001b[32m115.0/115.0 kB\u001b[0m \u001b[31m1.9 MB/s\u001b[0m eta \u001b[36m0:00:00\u001b[0m00:01\u001b[0m\n",
      "\u001b[?25hRequirement already satisfied: numpy in /Users/bart/anaconda3/lib/python3.11/site-packages (from bottleneck) (1.24.3)\n",
      "Installing collected packages: bottleneck\n",
      "  Attempting uninstall: bottleneck\n",
      "    Found existing installation: Bottleneck 1.3.5\n",
      "    Uninstalling Bottleneck-1.3.5:\n",
      "      Successfully uninstalled Bottleneck-1.3.5\n",
      "Successfully installed bottleneck-1.3.7\n",
      "Note: you may need to restart the kernel to use updated packages.\n"
     ]
    }
   ],
   "source": [
    "pip install --upgrade bottleneck\n"
   ]
  },
  {
   "cell_type": "code",
   "execution_count": 3,
   "id": "be866128",
   "metadata": {},
   "outputs": [],
   "source": [
    "import pandas as pd\n",
    "\n",
    "# Example logistic regression results with feature names and coefficients\n",
    "logistic_regression_results = [\n",
    "    {\"Feature\": \"online_boarding\", \"Coefficient\": 1.351984},\n",
    "    {\"Feature\": \"checkin_service\", \"Coefficient\": 0.588913},\n",
    "    {\"Feature\": \"type_of_travel_Business travel\", \"Coefficient\": 0.586216},\n",
    "    {\"Feature\": \"type_of_travel_Personal Travel\", \"Coefficient\": -0.586216},\n",
    "    {\"Feature\": \"baggage_handling\", \"Coefficient\": 0.537015},\n",
    "    {\"Feature\": \"customer_type_Loyal Customer\", \"Coefficient\": 0.516825},\n",
    "    {\"Feature\": \"customer_type_disloyal Customer\", \"Coefficient\": -0.516825},\n",
    "    {\"Feature\": \"leg_room_service\", \"Coefficient\": 0.482421},\n",
    "    {\"Feature\": \"inflight_service\", \"Coefficient\": 0.469927},\n",
    "    {\"Feature\": \"on-board_service\", \"Coefficient\": 0.441783},\n",
    "    {\"Feature\": \"cleanliness\", \"Coefficient\": 0.422364},\n",
    "    {\"Feature\": \"inflight_wifi_service\", \"Coefficient\": -0.299591},\n",
    "    {\"Feature\": \"seat_comfort\", \"Coefficient\": 0.234756}\n",
    "]\n",
    "\n",
    "# Create a DataFrame from the logistic regression results\n",
    "df = pd.DataFrame(logistic_regression_results)\n",
    "\n",
    "# Export the DataFrame to a CSV file\n",
    "df.to_csv('logistic_regression_results.csv', index=False)"
   ]
  }
 ],
 "metadata": {
  "kernelspec": {
   "display_name": "Python 3 (ipykernel)",
   "language": "python",
   "name": "python3"
  },
  "language_info": {
   "codemirror_mode": {
    "name": "ipython",
    "version": 3
   },
   "file_extension": ".py",
   "mimetype": "text/x-python",
   "name": "python",
   "nbconvert_exporter": "python",
   "pygments_lexer": "ipython3",
   "version": "3.11.5"
  }
 },
 "nbformat": 4,
 "nbformat_minor": 5
}
